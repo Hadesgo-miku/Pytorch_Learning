{
 "cells": [
  {
   "cell_type": "code",
   "id": "initial_id",
   "metadata": {
    "collapsed": true,
    "ExecuteTime": {
     "end_time": "2025-03-25T06:24:29.647532Z",
     "start_time": "2025-03-25T06:24:29.562199Z"
    }
   },
   "source": [
    "import torch\n",
    "from torch import nn\n",
    "from d2l import torch as d2l\n",
    "batch_size=256\n",
    "#load_data_fashion_mnist函数返回的是一个元组，分别是两个集的DataLoader\n",
    "train_iter,test_iter=d2l.load_data_fashion_mnist(batch_size)"
   ],
   "outputs": [],
   "execution_count": 3
  },
  {
   "metadata": {
    "ExecuteTime": {
     "end_time": "2025-03-25T06:24:29.661999Z",
     "start_time": "2025-03-25T06:24:29.654027Z"
    }
   },
   "cell_type": "code",
   "source": [
    "#Pytorch不会隐式的调整输入的形状\n",
    "#因此我们定义了展平层（flatten）在线性层前调整网络输入的形状\n",
    "net=nn.Sequential(nn.Flatten(),nn.Linear(784,10))\n",
    "def init_weights(m):\n",
    "    if type(m)==nn.Linear:\n",
    "        nn.init.normal_(m.weight,std=0.01)\n",
    "\n",
    "net.apply(init_weights)#将函数运用到net的每一层"
   ],
   "id": "d1a7cc43c4d88381",
   "outputs": [
    {
     "data": {
      "text/plain": [
       "Sequential(\n",
       "  (0): Flatten(start_dim=1, end_dim=-1)\n",
       "  (1): Linear(in_features=784, out_features=10, bias=True)\n",
       ")"
      ]
     },
     "execution_count": 4,
     "metadata": {},
     "output_type": "execute_result"
    }
   ],
   "execution_count": 4
  },
  {
   "metadata": {
    "ExecuteTime": {
     "end_time": "2025-03-25T06:24:29.680992Z",
     "start_time": "2025-03-25T06:24:29.678473Z"
    }
   },
   "cell_type": "code",
   "source": "loss=nn.CrossEntropyLoss()",
   "id": "f382c36cd7b3c79e",
   "outputs": [],
   "execution_count": 5
  },
  {
   "metadata": {
    "ExecuteTime": {
     "end_time": "2025-03-25T06:24:29.699948Z",
     "start_time": "2025-03-25T06:24:29.695777Z"
    }
   },
   "cell_type": "code",
   "source": "trainer=torch.optim.SGD(net.parameters(),lr=0.1)",
   "id": "10218fa690994e91",
   "outputs": [],
   "execution_count": 6
  },
  {
   "metadata": {
    "ExecuteTime": {
     "end_time": "2025-03-25T06:24:29.737924Z",
     "start_time": "2025-03-25T05:59:22.027364Z"
    }
   },
   "cell_type": "code",
   "source": [
    "'''num_epochs=10\n",
    "for epoch in range(num_epochs):\n",
    "    for X,y in train_iter:\n",
    "        l=loss(net(X),y)\n",
    "        trainer.zero_grad()#梯度清零\n",
    "        l.backward()\n",
    "        trainer.step()#调用step函数，进行模型net的更新\n",
    "    x_test,y_test=next(iter(test_iter))\n",
    "    l=loss(net(x_test),y_test)\n",
    "    print(f'epoch {epoch+1},loss {l:f}')'''"
   ],
   "id": "e799fde1fee09fa9",
   "outputs": [
    {
     "name": "stdout",
     "output_type": "stream",
     "text": [
      "epoch 1,loss 0.579378\n",
      "epoch 2,loss 0.517131\n",
      "epoch 3,loss 0.506944\n",
      "epoch 4,loss 0.450399\n",
      "epoch 5,loss 0.436991\n",
      "epoch 6,loss 0.428780\n",
      "epoch 7,loss 0.471901\n",
      "epoch 8,loss 0.432252\n",
      "epoch 9,loss 0.430645\n",
      "epoch 10,loss 0.411131\n"
     ]
    }
   ],
   "execution_count": 15
  }
 ],
 "metadata": {
  "kernelspec": {
   "display_name": "Python 3",
   "language": "python",
   "name": "python3"
  },
  "language_info": {
   "codemirror_mode": {
    "name": "ipython",
    "version": 2
   },
   "file_extension": ".py",
   "mimetype": "text/x-python",
   "name": "python",
   "nbconvert_exporter": "python",
   "pygments_lexer": "ipython2",
   "version": "2.7.6"
  }
 },
 "nbformat": 4,
 "nbformat_minor": 5
}
