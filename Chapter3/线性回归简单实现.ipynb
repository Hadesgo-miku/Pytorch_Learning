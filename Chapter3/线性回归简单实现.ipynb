{
 "cells": [
  {
   "metadata": {},
   "cell_type": "markdown",
   "source": "## 使用深度学习框架来简单的实现线性回归模型",
   "id": "6e3ca36e96db4bb"
  },
  {
   "metadata": {
    "ExecuteTime": {
     "end_time": "2025-03-22T09:29:09.890789Z",
     "start_time": "2025-03-22T09:29:09.887191Z"
    }
   },
   "cell_type": "code",
   "source": [
    "import numpy as np\n",
    "import torch\n",
    "from torch.utils import data\n",
    "from d2l import torch as d2l"
   ],
   "id": "b97ec220bf642bb7",
   "outputs": [],
   "execution_count": 3
  },
  {
   "metadata": {},
   "cell_type": "markdown",
   "source": "### 人工生成数据集",
   "id": "95229831acffd00"
  },
  {
   "metadata": {
    "ExecuteTime": {
     "end_time": "2025-03-22T09:29:11.464482Z",
     "start_time": "2025-03-22T09:29:11.446596Z"
    }
   },
   "cell_type": "code",
   "source": [
    "true_w = torch.tensor([2, -3.4])\n",
    "true_b = 4.2\n",
    "features, labels = d2l.synthetic_data(true_w, true_b, 1000)"
   ],
   "id": "e80a90ef6fe6ed2c",
   "outputs": [],
   "execution_count": 4
  },
  {
   "metadata": {
    "ExecuteTime": {
     "end_time": "2025-03-22T09:29:24.017749Z",
     "start_time": "2025-03-22T09:29:24.012317Z"
    }
   },
   "cell_type": "code",
   "source": [
    "def load_array(data_arrays, batch_size, is_train=True):\n",
    "    \"\"\"构造一个PyTorch数据迭代器。\"\"\"\n",
    "    dataset = data.TensorDataset(*data_arrays)\n",
    "    return data.DataLoader(dataset, batch_size, shuffle=is_train)\n",
    "\n",
    "batch_size = 10\n",
    "data_iter = load_array((features, labels), batch_size)\n",
    "\n",
    "#这个只是用于测试迭代器效果\n",
    "next(iter(data_iter))"
   ],
   "id": "84b71e636936d09e",
   "outputs": [
    {
     "data": {
      "text/plain": [
       "[tensor([[ 0.0629,  0.6052],\n",
       "         [-0.7646, -2.0251],\n",
       "         [-0.8282, -1.1931],\n",
       "         [ 0.9622, -0.4318],\n",
       "         [ 0.9527,  1.2732],\n",
       "         [-3.1218,  0.6301],\n",
       "         [-0.7435, -0.3163],\n",
       "         [-1.1230,  0.3332],\n",
       "         [-1.1641,  1.0859],\n",
       "         [-1.9165,  0.7397]]),\n",
       " tensor([[ 2.2835],\n",
       "         [ 9.5416],\n",
       "         [ 6.6195],\n",
       "         [ 7.5972],\n",
       "         [ 1.7641],\n",
       "         [-4.1872],\n",
       "         [ 3.7680],\n",
       "         [ 0.7988],\n",
       "         [-1.8232],\n",
       "         [-2.1265]])]"
      ]
     },
     "execution_count": 13,
     "metadata": {},
     "output_type": "execute_result"
    }
   ],
   "execution_count": 13
  },
  {
   "metadata": {
    "ExecuteTime": {
     "end_time": "2025-03-22T09:31:19.938515Z",
     "start_time": "2025-03-22T09:31:19.925940Z"
    }
   },
   "cell_type": "code",
   "source": [
    "from torch import nn\n",
    "net=nn.Sequential(nn.Linear(2,1))\n",
    "#Sequential类将多个层串联在一起,可以理解为list of layers"
   ],
   "id": "416823956adf13e5",
   "outputs": [],
   "execution_count": 14
  },
  {
   "metadata": {
    "ExecuteTime": {
     "end_time": "2025-03-22T09:32:42.917922Z",
     "start_time": "2025-03-22T09:32:42.912957Z"
    }
   },
   "cell_type": "code",
   "source": [
    "net[0].weight.data.normal_(0,0.01)\n",
    "#net[0]表示第一层，weight表示权重，data表示权重的数值，normal_表示用正态分布进行替换\n",
    "net[0].bias.data.fill_(0)"
   ],
   "id": "6dfe294e6207f6fb",
   "outputs": [
    {
     "data": {
      "text/plain": [
       "tensor([0.])"
      ]
     },
     "execution_count": 16,
     "metadata": {},
     "output_type": "execute_result"
    }
   ],
   "execution_count": 16
  },
  {
   "metadata": {
    "ExecuteTime": {
     "end_time": "2025-03-22T09:35:10.475865Z",
     "start_time": "2025-03-22T09:35:10.452371Z"
    }
   },
   "cell_type": "code",
   "source": "loss=nn.MSELoss()",
   "id": "11b0652080ce810b",
   "outputs": [],
   "execution_count": 17
  },
  {
   "metadata": {
    "ExecuteTime": {
     "end_time": "2025-03-22T09:37:28.913155Z",
     "start_time": "2025-03-22T09:37:28.891672Z"
    }
   },
   "cell_type": "code",
   "source": [
    "trainer=torch.optim.SGD(net.parameters(),lr=0.03)\n",
    "#SGD为一个优化器，net.parameters()表示需要优化的参数，lr为学习率\n",
    "#使用model.parameters()来获取模型的所有参数"
   ],
   "id": "4e39e7132f3aba7c",
   "outputs": [],
   "execution_count": 18
  },
  {
   "metadata": {},
   "cell_type": "markdown",
   "source": "### 训练模块",
   "id": "deb68d380cb3b546"
  },
  {
   "metadata": {
    "ExecuteTime": {
     "end_time": "2025-03-22T09:54:13.576658Z",
     "start_time": "2025-03-22T09:54:13.526442Z"
    }
   },
   "cell_type": "code",
   "source": [
    "num_epochs=3\n",
    "for epoch in range(num_epochs):\n",
    "    for X,y in data_iter:\n",
    "        l=loss(net(X),y)\n",
    "        trainer.zero_grad()#梯度清零\n",
    "        l.backward()\n",
    "        trainer.step()#调用step函数，进行模型net的更新\n",
    "    l=loss(net(features),labels)\n",
    "    print(f'epoch {epoch+1},loss {l:f}')"
   ],
   "id": "898f047b64dc68ba",
   "outputs": [
    {
     "name": "stdout",
     "output_type": "stream",
     "text": [
      "epoch 1,loss 0.000101\n",
      "epoch 1,loss 0.000101\n",
      "epoch 2,loss 0.000101\n",
      "epoch 2,loss 0.000101\n",
      "epoch 3,loss 0.000100\n",
      "epoch 3,loss 0.000100\n"
     ]
    }
   ],
   "execution_count": 23
  },
  {
   "metadata": {},
   "cell_type": "markdown",
   "source": [
    "### Q:\n",
    "#### 在随机梯度下降中，是不是每次算梯度，本质上是让这个batch的数据的损失减小，但总效果上使最终损失减少了？\n",
    "### A:\n",
    "#### 是的，在随机梯度下降（SGD）中，每次计算梯度并更新参数确实是让当前这个小批量（batch）数据的损失减小，而在整体效果上会使得最终的损失减少\n"
   ],
   "id": "b72925432694d11c"
  },
  {
   "metadata": {},
   "cell_type": "code",
   "outputs": [],
   "execution_count": null,
   "source": "",
   "id": "6fa9a39af971d807"
  }
 ],
 "metadata": {
  "kernelspec": {
   "display_name": "Python 3",
   "language": "python",
   "name": "python3"
  },
  "language_info": {
   "codemirror_mode": {
    "name": "ipython",
    "version": 2
   },
   "file_extension": ".py",
   "mimetype": "text/x-python",
   "name": "python",
   "nbconvert_exporter": "python",
   "pygments_lexer": "ipython2",
   "version": "2.7.6"
  }
 },
 "nbformat": 4,
 "nbformat_minor": 5
}
