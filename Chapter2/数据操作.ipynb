{
 "cells": [
  {
   "metadata": {},
   "cell_type": "markdown",
   "source": [
    "### N维数组是机器学习和神经网络的主要数据结构\n",
    "- 0—d 标量 一个类别\n",
    "- 1—d向量 一个特征向量\n",
    "- 2—d 矩阵 一个特征矩阵\n",
    "- 3—d RGB图片（宽x高x通道）\n",
    "- 4—d 视频 一个RGB通道的batch\n",
    "### 创建数组需要\n",
    "- 形状\n",
    "- 数据类型\n",
    "- 每个元素的值\n"
   ],
   "id": "8d83fa004c4dc9bb"
  },
  {
   "metadata": {
    "ExecuteTime": {
     "end_time": "2025-03-18T14:46:31.956766Z",
     "start_time": "2025-03-18T14:46:31.123239Z"
    }
   },
   "cell_type": "code",
   "source": "import torch",
   "id": "d2564963f620c0ec",
   "outputs": [],
   "execution_count": 1
  },
  {
   "metadata": {},
   "cell_type": "markdown",
   "source": "张量表示数值组成的数组，可能有多个维度",
   "id": "85dc67e7d544bda8"
  },
  {
   "metadata": {
    "ExecuteTime": {
     "end_time": "2025-03-18T14:47:36.062131Z",
     "start_time": "2025-03-18T14:47:36.058143Z"
    }
   },
   "cell_type": "code",
   "source": [
    "x=torch.arange(12)\n",
    "x"
   ],
   "id": "f8e9d617bc06939",
   "outputs": [
    {
     "data": {
      "text/plain": [
       "tensor([ 0,  1,  2,  3,  4,  5,  6,  7,  8,  9, 10, 11])"
      ]
     },
     "execution_count": 3,
     "metadata": {},
     "output_type": "execute_result"
    }
   ],
   "execution_count": 3
  },
  {
   "metadata": {
    "ExecuteTime": {
     "end_time": "2025-03-18T14:47:54.105661Z",
     "start_time": "2025-03-18T14:47:54.100446Z"
    }
   },
   "cell_type": "code",
   "source": "x.shape #访问张量的形状",
   "id": "3d8e812a090d85d5",
   "outputs": [
    {
     "data": {
      "text/plain": [
       "torch.Size([12])"
      ]
     },
     "execution_count": 4,
     "metadata": {},
     "output_type": "execute_result"
    }
   ],
   "execution_count": 4
  },
  {
   "metadata": {
    "ExecuteTime": {
     "end_time": "2025-03-18T14:47:56.806055Z",
     "start_time": "2025-03-18T14:47:56.801764Z"
    }
   },
   "cell_type": "code",
   "source": "x.numel() #访问张量的元素总数",
   "id": "c2e37b1c8ccd5d0f",
   "outputs": [
    {
     "data": {
      "text/plain": [
       "12"
      ]
     },
     "execution_count": 5,
     "metadata": {},
     "output_type": "execute_result"
    }
   ],
   "execution_count": 5
  },
  {
   "metadata": {},
   "cell_type": "code",
   "outputs": [],
   "execution_count": null,
   "source": [
    "X=x.reshape(3,4) #改变张量的形状但不改变数量和元素值\n",
    "X"
   ],
   "id": "bf7fb408c0d44183"
  },
  {
   "metadata": {
    "ExecuteTime": {
     "end_time": "2025-03-18T14:49:27.585379Z",
     "start_time": "2025-03-18T14:49:27.569589Z"
    }
   },
   "cell_type": "code",
   "source": [
    "torch.zeros(size=(2,3,4)) #创建全0张量\n",
    "#torch.zeros((2,3,4))"
   ],
   "id": "5d7a51634cec96e9",
   "outputs": [
    {
     "data": {
      "text/plain": [
       "tensor([[[0., 0., 0., 0.],\n",
       "         [0., 0., 0., 0.],\n",
       "         [0., 0., 0., 0.]],\n",
       "\n",
       "        [[0., 0., 0., 0.],\n",
       "         [0., 0., 0., 0.],\n",
       "         [0., 0., 0., 0.]]])"
      ]
     },
     "execution_count": 7,
     "metadata": {},
     "output_type": "execute_result"
    }
   ],
   "execution_count": 7
  },
  {
   "metadata": {
    "ExecuteTime": {
     "end_time": "2025-03-18T14:53:44.972041Z",
     "start_time": "2025-03-18T14:53:44.961289Z"
    }
   },
   "cell_type": "code",
   "source": [
    "X=torch.arange(12,dtype=torch.float32).reshape((3,4))\n",
    "Y=torch.tensor([[2,1,4,3],[1,2,3,4],[4,3,2,1]])\n",
    "print(torch.cat((X,Y),dim=0),torch.cat((X,Y),dim=1),sep='\\n')\n",
    "#张量的连接,其中0维表示行，1维表示列\n",
    "#对于二维的数组来说，dim=0进行数据的拼接，dim=1进行标签的扩展"
   ],
   "id": "86ce075868daa834",
   "outputs": [
    {
     "name": "stdout",
     "output_type": "stream",
     "text": [
      "tensor([[ 0.,  1.,  2.,  3.],\n",
      "        [ 4.,  5.,  6.,  7.],\n",
      "        [ 8.,  9., 10., 11.],\n",
      "        [ 2.,  1.,  4.,  3.],\n",
      "        [ 1.,  2.,  3.,  4.],\n",
      "        [ 4.,  3.,  2.,  1.]])\n",
      "tensor([[ 0.,  1.,  2.,  3.,  2.,  1.,  4.,  3.],\n",
      "        [ 4.,  5.,  6.,  7.,  1.,  2.,  3.,  4.],\n",
      "        [ 8.,  9., 10., 11.,  4.,  3.,  2.,  1.]])\n"
     ]
    }
   ],
   "execution_count": 11
  },
  {
   "metadata": {
    "ExecuteTime": {
     "end_time": "2025-03-18T14:55:25.481108Z",
     "start_time": "2025-03-18T14:55:25.471201Z"
    }
   },
   "cell_type": "code",
   "source": [
    "X==Y #张量的逻辑运算\n",
    "#返回对应的布尔值形成的张量"
   ],
   "id": "c94243446084edef",
   "outputs": [
    {
     "data": {
      "text/plain": [
       "tensor([[False,  True, False,  True],\n",
       "        [False, False, False, False],\n",
       "        [False, False, False, False]])"
      ]
     },
     "execution_count": 12,
     "metadata": {},
     "output_type": "execute_result"
    }
   ],
   "execution_count": 12
  },
  {
   "metadata": {
    "ExecuteTime": {
     "end_time": "2025-03-18T14:57:05.104932Z",
     "start_time": "2025-03-18T14:57:05.090632Z"
    }
   },
   "cell_type": "code",
   "source": [
    "X.sum() #张量的元素求和\n",
    "#返回一个只有一个元素的张量\n",
    "#数字后的点表示这是浮点数"
   ],
   "id": "54e75445ed347fd5",
   "outputs": [
    {
     "data": {
      "text/plain": [
       "tensor(66.)"
      ]
     },
     "execution_count": 14,
     "metadata": {},
     "output_type": "execute_result"
    }
   ],
   "execution_count": 14
  },
  {
   "metadata": {},
   "cell_type": "markdown",
   "source": "#### 即使形状不同，仍然可以通过广播机制来执行元素操作",
   "id": "d0ab4d72176c2c86"
  },
  {
   "metadata": {
    "ExecuteTime": {
     "end_time": "2025-03-18T14:58:09.430260Z",
     "start_time": "2025-03-18T14:58:09.420783Z"
    }
   },
   "cell_type": "code",
   "source": [
    "a=torch.arange(3).reshape((3,1))\n",
    "b=torch.arange(2).reshape((1,2))\n",
    "a,b"
   ],
   "id": "952f65901139c58c",
   "outputs": [
    {
     "data": {
      "text/plain": [
       "(tensor([[0],\n",
       "         [1],\n",
       "         [2]]),\n",
       " tensor([[0, 1]]))"
      ]
     },
     "execution_count": 15,
     "metadata": {},
     "output_type": "execute_result"
    }
   ],
   "execution_count": 15
  },
  {
   "metadata": {
    "ExecuteTime": {
     "end_time": "2025-03-18T14:58:56.473814Z",
     "start_time": "2025-03-18T14:58:56.468692Z"
    }
   },
   "cell_type": "code",
   "source": [
    "print(a+b)\n",
    "#广播机制可能会导致一些难以发现的错误\n",
    "#形状不对仍能正常运行"
   ],
   "id": "c0d803a59f2816ed",
   "outputs": [
    {
     "name": "stdout",
     "output_type": "stream",
     "text": [
      "tensor([[0, 1],\n",
      "        [1, 2],\n",
      "        [2, 3]])\n"
     ]
    }
   ],
   "execution_count": 17
  },
  {
   "metadata": {},
   "cell_type": "markdown",
   "source": "#### 运行一些操作可能会为新结果分配内存",
   "id": "c5eba39bf8222c28"
  },
  {
   "metadata": {},
   "cell_type": "code",
   "outputs": [],
   "execution_count": null,
   "source": [
    "before=id(Y)\n",
    "Y=Y+X\n",
    "id(Y)==before"
   ],
   "id": "1455ef4f9a19ae4e"
  },
  {
   "metadata": {},
   "cell_type": "markdown",
   "source": "#### 执行原地操作",
   "id": "acddd8828365e6bf"
  },
  {
   "metadata": {
    "ExecuteTime": {
     "end_time": "2025-03-18T15:04:08.597691Z",
     "start_time": "2025-03-18T15:04:08.592703Z"
    }
   },
   "cell_type": "code",
   "source": [
    "Z=torch.zeros_like(Y)\n",
    "print('id(Z):',id(Z))\n",
    "Z[:]=X+Y\n",
    "print('id(Z):',id(Z))"
   ],
   "id": "2e4cb260a1b8d309",
   "outputs": [
    {
     "name": "stdout",
     "output_type": "stream",
     "text": [
      "id(Z): 5061169296\n",
      "id(Z): 5061169296\n"
     ]
    }
   ],
   "execution_count": 19
  },
  {
   "metadata": {},
   "cell_type": "markdown",
   "source": "#### 转换为numpy张量",
   "id": "60519928174eefa2"
  },
  {
   "metadata": {
    "ExecuteTime": {
     "end_time": "2025-03-18T15:05:09.549531Z",
     "start_time": "2025-03-18T15:05:09.546028Z"
    }
   },
   "cell_type": "code",
   "source": [
    "A=X.numpy()\n",
    "B=torch.tensor(A)\n",
    "type(A),type(B)"
   ],
   "id": "fa9bbbb6151c51ff",
   "outputs": [
    {
     "data": {
      "text/plain": [
       "(numpy.ndarray, torch.Tensor)"
      ]
     },
     "execution_count": 22,
     "metadata": {},
     "output_type": "execute_result"
    }
   ],
   "execution_count": 22
  },
  {
   "metadata": {},
   "cell_type": "markdown",
   "source": "#### 将大小为1的张量转换为python标量",
   "id": "929528115e9b6f4"
  },
  {
   "metadata": {
    "ExecuteTime": {
     "end_time": "2025-03-18T15:05:37.245195Z",
     "start_time": "2025-03-18T15:05:37.234505Z"
    }
   },
   "cell_type": "code",
   "source": [
    "a=torch.tensor([3.5])\n",
    "a,a.item(),float(a),int(a)"
   ],
   "id": "b3aaf1f3f6194e8b",
   "outputs": [
    {
     "data": {
      "text/plain": [
       "(tensor([3.5000]), 3.5, 3.5, 3)"
      ]
     },
     "execution_count": 23,
     "metadata": {},
     "output_type": "execute_result"
    }
   ],
   "execution_count": 23
  }
 ],
 "metadata": {
  "kernelspec": {
   "name": "python3",
   "language": "python",
   "display_name": "Python 3 (ipykernel)"
  }
 },
 "nbformat": 5,
 "nbformat_minor": 9
}
