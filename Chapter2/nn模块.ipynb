{
 "cells": [
  {
   "metadata": {
    "ExecuteTime": {
     "end_time": "2025-03-22T09:19:42.183484Z",
     "start_time": "2025-03-22T09:19:42.169387Z"
    }
   },
   "cell_type": "code",
   "source": [
    "from torch import nn\n",
    "import torch\n",
    "class My_nn(nn.Module):\n",
    "    def __init__(self):\n",
    "        super(My_nn,self).__init__()\n",
    "    def forward(self,x):\n",
    "        output=x+1\n",
    "        return output"
   ],
   "id": "838f61e36b90390e",
   "outputs": [],
   "execution_count": 3
  },
  {
   "metadata": {},
   "cell_type": "markdown",
   "source": "### forward函数事实上就是一个自定义的计算函数",
   "id": "52bea7312b3d61b3"
  },
  {
   "metadata": {
    "ExecuteTime": {
     "end_time": "2025-03-22T09:19:43.442283Z",
     "start_time": "2025-03-22T09:19:43.383010Z"
    }
   },
   "cell_type": "code",
   "source": [
    "test_nn=My_nn()\n",
    "x=torch.tensor(1.0)\n",
    "output=test_nn(x)\n",
    "print(output)"
   ],
   "id": "ff84bbf4c2707031",
   "outputs": [
    {
     "name": "stdout",
     "output_type": "stream",
     "text": [
      "tensor(2.)\n"
     ]
    }
   ],
   "execution_count": 4
  }
 ],
 "metadata": {
  "kernelspec": {
   "display_name": "Python 3",
   "language": "python",
   "name": "python3"
  },
  "language_info": {
   "codemirror_mode": {
    "name": "ipython",
    "version": 2
   },
   "file_extension": ".py",
   "mimetype": "text/x-python",
   "name": "python",
   "nbconvert_exporter": "python",
   "pygments_lexer": "ipython2",
   "version": "2.7.6"
  }
 },
 "nbformat": 4,
 "nbformat_minor": 5
}
