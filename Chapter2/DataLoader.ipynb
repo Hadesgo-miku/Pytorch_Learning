{
 "cells": [
  {
   "metadata": {},
   "cell_type": "markdown",
   "source": "",
   "id": "68d95a15eb028c77"
  },
  {
   "metadata": {
    "ExecuteTime": {
     "end_time": "2025-03-25T09:05:04.915640Z",
     "start_time": "2025-03-25T09:05:02.940241Z"
    }
   },
   "cell_type": "code",
   "source": [
    "import torchvision\n",
    "test_data=torchvision.datasets.CIFAR10('../dataset', train=False, transform=torchvision.transforms.ToTensor(), download=True)"
   ],
   "id": "291945d7c60ce3f5",
   "outputs": [],
   "execution_count": 1
  },
  {
   "metadata": {
    "ExecuteTime": {
     "end_time": "2025-03-25T09:05:04.925831Z",
     "start_time": "2025-03-25T09:05:04.923495Z"
    }
   },
   "cell_type": "code",
   "source": [
    "from torch.utils.data import DataLoader\n",
    "test_loader=DataLoader(test_data,batch_size=4,shuffle=True,num_workers=0,drop_last=False)"
   ],
   "id": "bb43f47db0fcda5f",
   "outputs": [],
   "execution_count": 2
  },
  {
   "metadata": {
    "ExecuteTime": {
     "end_time": "2025-03-25T09:05:04.996247Z",
     "start_time": "2025-03-25T09:05:04.991306Z"
    }
   },
   "cell_type": "code",
   "source": [
    "img,target=test_data[0]\n",
    "print(type(img))\n",
    "print(img.shape)\n",
    "print(target)"
   ],
   "id": "dffb7ca05ec4b5f5",
   "outputs": [
    {
     "name": "stdout",
     "output_type": "stream",
     "text": [
      "<class 'torch.Tensor'>\n",
      "torch.Size([3, 32, 32])\n",
      "3\n"
     ]
    }
   ],
   "execution_count": 3
  }
 ],
 "metadata": {
  "kernelspec": {
   "display_name": "Python 3",
   "language": "python",
   "name": "python3"
  },
  "language_info": {
   "codemirror_mode": {
    "name": "ipython",
    "version": 2
   },
   "file_extension": ".py",
   "mimetype": "text/x-python",
   "name": "python",
   "nbconvert_exporter": "python",
   "pygments_lexer": "ipython2",
   "version": "2.7.6"
  }
 },
 "nbformat": 4,
 "nbformat_minor": 5
}
