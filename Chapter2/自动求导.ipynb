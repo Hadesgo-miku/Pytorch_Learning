{
 "cells": [
  {
   "cell_type": "code",
   "id": "initial_id",
   "metadata": {
    "collapsed": true,
    "ExecuteTime": {
     "end_time": "2025-03-19T03:48:10.698437Z",
     "start_time": "2025-03-19T03:48:10.676969Z"
    }
   },
   "source": [
    "import torch\n",
    "x=torch.arange(4.0)\n",
    "x"
   ],
   "outputs": [
    {
     "data": {
      "text/plain": [
       "tensor([0., 1., 2., 3.])"
      ]
     },
     "execution_count": 2,
     "metadata": {},
     "output_type": "execute_result"
    }
   ],
   "execution_count": 2
  },
  {
   "metadata": {},
   "cell_type": "markdown",
   "source": "### 在计算梯度之前，需要一个地方来存储梯度",
   "id": "13b35cd11221101"
  },
  {
   "metadata": {
    "ExecuteTime": {
     "end_time": "2025-03-19T03:52:11.835099Z",
     "start_time": "2025-03-19T03:52:11.826268Z"
    }
   },
   "cell_type": "code",
   "source": [
    "x.requires_grad_(True) #等价于x=torch.arange(4.0,requires_grad=True)\n",
    "x.grad"
   ],
   "id": "fdce84e047ba4181",
   "outputs": [],
   "execution_count": 4
  },
  {
   "metadata": {},
   "cell_type": "markdown",
   "source": "### 现在计算y",
   "id": "6459b87cbceb089d"
  },
  {
   "metadata": {
    "ExecuteTime": {
     "end_time": "2025-03-19T03:56:38.547148Z",
     "start_time": "2025-03-19T03:56:38.494492Z"
    }
   },
   "cell_type": "code",
   "source": [
    "y=2*torch.dot(x,x)\n",
    "y"
   ],
   "id": "782eae2ea542e811",
   "outputs": [
    {
     "data": {
      "text/plain": [
       "tensor(28., grad_fn=<MulBackward0>)"
      ]
     },
     "execution_count": 5,
     "metadata": {},
     "output_type": "execute_result"
    }
   ],
   "execution_count": 5
  },
  {
   "metadata": {},
   "cell_type": "markdown",
   "source": "### 通过调用反向传播函数来自动计算y关于x每个分量的梯度，并打印这些梯度",
   "id": "264f0b74b4897c3"
  },
  {
   "metadata": {
    "ExecuteTime": {
     "end_time": "2025-03-19T03:57:30.178562Z",
     "start_time": "2025-03-19T03:57:30.083027Z"
    }
   },
   "cell_type": "code",
   "source": [
    "y.backward()\n",
    "x.grad"
   ],
   "id": "b1e28a2a80f900a7",
   "outputs": [
    {
     "data": {
      "text/plain": [
       "tensor([ 0.,  4.,  8., 12.])"
      ]
     },
     "execution_count": 6,
     "metadata": {},
     "output_type": "execute_result"
    }
   ],
   "execution_count": 6
  },
  {
   "metadata": {},
   "cell_type": "markdown",
   "source": "### 现在计算x的另一个函数",
   "id": "30becfbc4b6b5b66"
  },
  {
   "metadata": {
    "ExecuteTime": {
     "end_time": "2025-03-19T04:00:15.406496Z",
     "start_time": "2025-03-19T04:00:15.392199Z"
    }
   },
   "cell_type": "code",
   "source": [
    "# 在默认情况下，pytorch会累积梯度，我们需要清除之前的值\n",
    "#pytorch中带下划线的函数表示进行原地操作\n",
    "x.grad.zero_()\n",
    "y=x.sum()\n",
    "y.backward()\n",
    "x.grad"
   ],
   "id": "f83655e3fab14cf6",
   "outputs": [
    {
     "data": {
      "text/plain": [
       "tensor([1., 1., 1., 1.])"
      ]
     },
     "execution_count": 7,
     "metadata": {},
     "output_type": "execute_result"
    }
   ],
   "execution_count": 7
  },
  {
   "metadata": {},
   "cell_type": "markdown",
   "source": "### 将某些计算移动到记录的计算图之外",
   "id": "78eb366cccd944b7"
  },
  {
   "metadata": {
    "ExecuteTime": {
     "end_time": "2025-03-19T04:03:59.620367Z",
     "start_time": "2025-03-19T04:03:59.610592Z"
    }
   },
   "cell_type": "code",
   "source": [
    "x.grad.zero_()\n",
    "y=x*x\n",
    "u=y.detach()\n",
    "#此时u被移出计算图外，是一个数值等于x*x的常数\n",
    "z=u*x\n",
    "\n",
    "z.sum().backward()\n",
    "x.grad==u"
   ],
   "id": "a4e2b500da850a4",
   "outputs": [
    {
     "data": {
      "text/plain": [
       "tensor([True, True, True, True])"
      ]
     },
     "execution_count": 9,
     "metadata": {},
     "output_type": "execute_result"
    }
   ],
   "execution_count": 9
  },
  {
   "metadata": {
    "ExecuteTime": {
     "end_time": "2025-03-19T04:05:43.107058Z",
     "start_time": "2025-03-19T04:05:43.097621Z"
    }
   },
   "cell_type": "code",
   "source": [
    "#调用前清零的习惯\n",
    "x.grad.zero_()\n",
    "y.sum().backward()\n",
    "x.grad==2*x"
   ],
   "id": "f0bb44fd9cde562c",
   "outputs": [
    {
     "data": {
      "text/plain": [
       "tensor([True, True, True, True])"
      ]
     },
     "execution_count": 11,
     "metadata": {},
     "output_type": "execute_result"
    }
   ],
   "execution_count": 11
  },
  {
   "metadata": {},
   "cell_type": "markdown",
   "source": "### 即使构建函数的计算图需要通过python控制流（例如，条件、循环或任意函数调用），我们仍然可以计算得到的变量的梯度",
   "id": "c6c734cd384ff90f"
  },
  {
   "metadata": {},
   "cell_type": "code",
   "outputs": [],
   "execution_count": null,
   "source": [
    "def f(a):\n",
    "    b=a*2\n",
    "    while b.norm()<1000:\n",
    "        b=b*2\n",
    "    if b.sum()>0:\n",
    "        c=b\n",
    "    else:\n",
    "        c=100*b"
   ],
   "id": "f9a0e94386606c22"
  }
 ],
 "metadata": {
  "kernelspec": {
   "display_name": "Python 3",
   "language": "python",
   "name": "python3"
  },
  "language_info": {
   "codemirror_mode": {
    "name": "ipython",
    "version": 2
   },
   "file_extension": ".py",
   "mimetype": "text/x-python",
   "name": "python",
   "nbconvert_exporter": "python",
   "pygments_lexer": "ipython2",
   "version": "2.7.6"
  }
 },
 "nbformat": 4,
 "nbformat_minor": 5
}
