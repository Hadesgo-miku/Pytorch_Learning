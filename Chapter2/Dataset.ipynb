{
 "cells": [
  {
   "metadata": {
    "ExecuteTime": {
     "end_time": "2025-03-18T06:58:34.807312Z",
     "start_time": "2025-03-18T06:58:33.938327Z"
    }
   },
   "cell_type": "code",
   "source": [
    "from torch.utils.data import Dataset\n",
    "from PIL import Image"
   ],
   "id": "d7ac023c650326d9",
   "outputs": [],
   "execution_count": 2
  },
  {
   "metadata": {
    "ExecuteTime": {
     "end_time": "2025-03-18T06:58:34.821539Z",
     "start_time": "2025-03-18T06:58:34.811675Z"
    }
   },
   "cell_type": "code",
   "source": [
    "#用文件路径获取图片\n",
    "img_path = \"/dataset/bees_and_ants/val/ants/8398478_50ef10c47a.jpg\"\n",
    "img = Image.open(img_path)\n",
    "#img.show()"
   ],
   "id": "dc4964ad560b77c4",
   "outputs": [],
   "execution_count": 3
  },
  {
   "metadata": {
    "ExecuteTime": {
     "end_time": "2025-03-18T06:58:34.830278Z",
     "start_time": "2025-03-18T06:58:34.827825Z"
    }
   },
   "cell_type": "code",
   "source": [
    "#利用os批量获取图片路径\n",
    "import os\n",
    "root_dir = \"/dataset/bees_and_ants/train\"\n",
    "label_dir = \"ants\"\n",
    "path = os.path.join(root_dir, label_dir)\n",
    "img_path_list = os.listdir(path)"
   ],
   "id": "293447e2c514e3a8",
   "outputs": [],
   "execution_count": 4
  },
  {
   "metadata": {
    "ExecuteTime": {
     "end_time": "2025-03-18T06:58:34.849372Z",
     "start_time": "2025-03-18T06:58:34.847201Z"
    }
   },
   "cell_type": "code",
   "source": [
    "#从Dataset类继承\n",
    "class MyDataset(Dataset):\n",
    "    #定义构造方法，实现数据路径列表等功能\n",
    "    def __init__(self, root_dir, label_dir):\n",
    "        self.root_dir = root_dir\n",
    "        self.label_dir = label_dir\n",
    "        self.path = os.path.join(self.root_dir, self.label_dir)\n",
    "        self.img_path_list = os.listdir(self.path)\n",
    "    def __getitem__(self, idx):\n",
    "        img_name = self.img_path_list[idx]\n",
    "        img_item_path = os.path.join(self.root_dir, self.label_dir, img_name)\n",
    "        img = Image.open(img_item_path)\n",
    "        label = self.label_dir\n",
    "        return img, label\n",
    "    def __len__(self):\n",
    "        return len(self.img_path_list)"
   ],
   "id": "8995aa896bab101e",
   "outputs": [],
   "execution_count": 5
  },
  {
   "metadata": {
    "ExecuteTime": {
     "end_time": "2025-03-18T06:58:35.043685Z",
     "start_time": "2025-03-18T06:58:34.860772Z"
    }
   },
   "cell_type": "code",
   "source": [
    "test = MyDataset(root_dir, label_dir)\n",
    "test[3]\n",
    "img,label=test[3]\n",
    "#img.show()"
   ],
   "id": "c9b500078be192c7",
   "outputs": [],
   "execution_count": 6
  },
  {
   "metadata": {
    "ExecuteTime": {
     "end_time": "2025-03-18T07:00:41.014877Z",
     "start_time": "2025-03-18T07:00:41.003976Z"
    }
   },
   "cell_type": "code",
   "source": [
    "ants_dataset = MyDataset(root_dir, label_dir=\"ants\")\n",
    "bees_dataset = MyDataset(root_dir, label_dir=\"bees\")\n",
    "#用+号方法将两个数据集合并\n",
    "train_dataset = ants_dataset + bees_dataset\n",
    "print(len(ants_dataset),len(bees_dataset),len(train_dataset))"
   ],
   "id": "f65a88d9e0f2d4b9",
   "outputs": [
    {
     "name": "stdout",
     "output_type": "stream",
     "text": [
      "124 121 245\n"
     ]
    }
   ],
   "execution_count": 7
  }
 ],
 "metadata": {
  "kernelspec": {
   "name": "python3",
   "language": "python",
   "display_name": "Python 3 (ipykernel)"
  }
 },
 "nbformat": 5,
 "nbformat_minor": 9
}
