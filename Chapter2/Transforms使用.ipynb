{
 "cells": [
  {
   "metadata": {},
   "cell_type": "markdown",
   "source": "## Transforms的结构与用法",
   "id": "b0e7c0231223045c"
  },
  {
   "metadata": {},
   "cell_type": "markdown",
   "source": "Transforms是一个用于数据预处理和增强等功能的库",
   "id": "90639ec9f393d087"
  },
  {
   "metadata": {
    "ExecuteTime": {
     "end_time": "2025-03-20T08:28:40.514170Z",
     "start_time": "2025-03-20T08:28:40.508979Z"
    }
   },
   "cell_type": "code",
   "source": [
    "from PIL import Image\n",
    "from torchvision import transforms\n",
    "from torch.utils.tensorboard import SummaryWriter"
   ],
   "id": "e60ffc7be6987864",
   "outputs": [],
   "execution_count": 27
  },
  {
   "metadata": {},
   "cell_type": "markdown",
   "source": [
    "### ToTensor\n",
    "ToTensor的作用是将PIL Image或numpy.ndarray转换为tensor"
   ],
   "id": "5d6b7bfeeba41ae4"
  },
  {
   "metadata": {
    "ExecuteTime": {
     "end_time": "2025-03-20T08:28:40.649207Z",
     "start_time": "2025-03-20T08:28:40.525464Z"
    }
   },
   "cell_type": "code",
   "source": [
    "img_path= '../dataset/bees_and_ants/val/bees/57459255_752774f1b2.jpg'\n",
    "img=Image.open(img_path)\n",
    "tensor_trans=transforms.ToTensor()#构造方法，此处不传入别的参数\n",
    "tensor_img=tensor_trans(img)\n",
    "\n",
    "#__init__ 方法在创建实例时被调用，而 __call__ 方法在实例被当作函数调用时被触发\n",
    "#__init__ 方法用于初始化对象的状态。\n",
    "#__call__ 方法用于执行对象的核心操作。\n",
    "writer=SummaryWriter(\"../logs\")\n",
    "writer.add_image(\"Tensor_img\",tensor_img)"
   ],
   "id": "bbb81c78e3e89f52",
   "outputs": [],
   "execution_count": 28
  },
  {
   "metadata": {},
   "cell_type": "markdown",
   "source": [
    "### Normalize\n",
    "Normalize的作用是对tensor进行标准化 <br>\n",
    "能够加快模型的收敛速度 <br>\n",
    "在对图片进行处理时，需要将图片转换为tensor，然后进行标准化 <br>\n",
    "改变的是图片的通道（颜色），而不是图片的大小  <br>"
   ],
   "id": "c3a480147b0d6b28"
  },
  {
   "metadata": {
    "ExecuteTime": {
     "end_time": "2025-03-20T08:28:40.719987Z",
     "start_time": "2025-03-20T08:28:40.659979Z"
    }
   },
   "cell_type": "code",
   "source": [
    "print(tensor_img[0][0][0])\n",
    "trans_norm=transforms.Normalize([0.5,0.5,0.5],[0.5,0.5,0.5])\n",
    "img_norm=trans_norm(tensor_img)\n",
    "print(img_norm[0][0][0])\n",
    "\n",
    "writer.add_image(\"Normalize\",img_norm)"
   ],
   "id": "a491979b5fa05a2f",
   "outputs": [
    {
     "name": "stdout",
     "output_type": "stream",
     "text": [
      "tensor(0.2980)\n",
      "tensor(-0.4039)\n"
     ]
    }
   ],
   "execution_count": 29
  },
  {
   "metadata": {},
   "cell_type": "markdown",
   "source": [
    "### Resize\n",
    "通过插值法对图片进行缩放 <br>"
   ],
   "id": "3bc78817521c8728"
  },
  {
   "metadata": {
    "ExecuteTime": {
     "end_time": "2025-03-20T08:28:40.852525Z",
     "start_time": "2025-03-20T08:28:40.731724Z"
    }
   },
   "cell_type": "code",
   "source": [
    "print(img.size)\n",
    "trans_resize=transforms.Resize((512,512))\n",
    "img_resized=trans_resize(img)\n",
    "img_resized=tensor_trans(img_resized)\n",
    "writer.add_image(\"Resize\",img_resized,0)\n"
   ],
   "id": "c082f342f7cfc75f",
   "outputs": [
    {
     "name": "stdout",
     "output_type": "stream",
     "text": [
      "(500, 332)\n"
     ]
    }
   ],
   "execution_count": 30
  },
  {
   "metadata": {},
   "cell_type": "markdown",
   "source": [
    "### Compose\n",
    "Compose的作用是将多个transforms组合在一起 <br>\n",
    "类似于pandas中的pipe <br>"
   ],
   "id": "5d9bd875ed9a2a7b"
  },
  {
   "metadata": {
    "ExecuteTime": {
     "end_time": "2025-03-20T08:28:40.993525Z",
     "start_time": "2025-03-20T08:28:40.858402Z"
    }
   },
   "cell_type": "code",
   "source": [
    "trans_resize_2=transforms.Resize(512)\n",
    "trans_compose=transforms.Compose([trans_resize_2,tensor_trans,trans_norm])\n",
    "img_resized_2=trans_compose(img)\n",
    "writer.add_image(\"Compose_Resize\",img_resized_2,1)\n",
    "writer.close()"
   ],
   "id": "7aaef798a2ffb64a",
   "outputs": [],
   "execution_count": 31
  }
 ],
 "metadata": {
  "kernelspec": {
   "display_name": "Python 3",
   "language": "python",
   "name": "python3"
  },
  "language_info": {
   "codemirror_mode": {
    "name": "ipython",
    "version": 2
   },
   "file_extension": ".py",
   "mimetype": "text/x-python",
   "name": "python",
   "nbconvert_exporter": "python",
   "pygments_lexer": "ipython2",
   "version": "2.7.6"
  }
 },
 "nbformat": 4,
 "nbformat_minor": 5
}
