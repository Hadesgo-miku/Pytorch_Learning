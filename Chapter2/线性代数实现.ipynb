{
 "cells": [
  {
   "metadata": {},
   "cell_type": "markdown",
   "source": "### 标量用只有一个的张量表示",
   "id": "470d3dd9d10d6eb8"
  },
  {
   "metadata": {
    "ExecuteTime": {
     "end_time": "2025-03-18T15:28:31.016745Z",
     "start_time": "2025-03-18T15:28:30.081006Z"
    }
   },
   "cell_type": "code",
   "source": [
    "import torch\n",
    "x=torch.tensor([3.0])\n",
    "y=torch.tensor([2.0])\n",
    "x+y,x*y,x/y,x**y"
   ],
   "id": "f56b798a817eccc3",
   "outputs": [
    {
     "data": {
      "text/plain": [
       "(tensor([5.]), tensor([6.]), tensor([1.5000]), tensor([9.]))"
      ]
     },
     "execution_count": 1,
     "metadata": {},
     "output_type": "execute_result"
    }
   ],
   "execution_count": 1
  },
  {
   "metadata": {},
   "cell_type": "markdown",
   "source": "### 可以把向量当作标量组成的列表",
   "id": "b6403685eb2e0512"
  },
  {
   "metadata": {
    "ExecuteTime": {
     "end_time": "2025-03-18T15:29:52.335412Z",
     "start_time": "2025-03-18T15:29:52.325127Z"
    }
   },
   "cell_type": "code",
   "source": [
    "x=torch.arange(4)\n",
    "x"
   ],
   "id": "38452329ef72be70",
   "outputs": [
    {
     "data": {
      "text/plain": [
       "tensor([0, 1, 2, 3])"
      ]
     },
     "execution_count": 2,
     "metadata": {},
     "output_type": "execute_result"
    }
   ],
   "execution_count": 2
  },
  {
   "metadata": {
    "ExecuteTime": {
     "end_time": "2025-03-18T15:30:52.483093Z",
     "start_time": "2025-03-18T15:30:52.468963Z"
    }
   },
   "cell_type": "code",
   "source": "print(x[3],x.shape,len(x))",
   "id": "6ca22756c154aafa",
   "outputs": [
    {
     "name": "stdout",
     "output_type": "stream",
     "text": [
      "tensor(3) torch.Size([4]) 4\n"
     ]
    }
   ],
   "execution_count": 3
  },
  {
   "metadata": {},
   "cell_type": "markdown",
   "source": "### 通过指定两个分量m和n来创建一个mxn矩阵",
   "id": "3e66ebffb96d60f9"
  },
  {
   "metadata": {
    "ExecuteTime": {
     "end_time": "2025-03-18T15:31:59.204173Z",
     "start_time": "2025-03-18T15:31:59.194247Z"
    }
   },
   "cell_type": "code",
   "source": [
    "A = torch.arange(20).reshape(5,4)\n",
    "A"
   ],
   "id": "a7743fd11e349af2",
   "outputs": [
    {
     "data": {
      "text/plain": [
       "tensor([[ 0,  1,  2,  3],\n",
       "        [ 4,  5,  6,  7],\n",
       "        [ 8,  9, 10, 11],\n",
       "        [12, 13, 14, 15],\n",
       "        [16, 17, 18, 19]])"
      ]
     },
     "execution_count": 4,
     "metadata": {},
     "output_type": "execute_result"
    }
   ],
   "execution_count": 4
  },
  {
   "metadata": {
    "ExecuteTime": {
     "end_time": "2025-03-18T15:33:02.374292Z",
     "start_time": "2025-03-18T15:33:02.361721Z"
    }
   },
   "cell_type": "code",
   "source": "A.T#矩阵的转置",
   "id": "b5376d524e14a50d",
   "outputs": [
    {
     "data": {
      "text/plain": [
       "tensor([[ 0,  4,  8, 12, 16],\n",
       "        [ 1,  5,  9, 13, 17],\n",
       "        [ 2,  6, 10, 14, 18],\n",
       "        [ 3,  7, 11, 15, 19]])"
      ]
     },
     "execution_count": 5,
     "metadata": {},
     "output_type": "execute_result"
    }
   ],
   "execution_count": 5
  },
  {
   "metadata": {},
   "cell_type": "markdown",
   "source": "### 给定具有相同形状的任何两个张量，任何按元素二元运算的结果都将是相同形状的张量",
   "id": "d739046d19393f84"
  },
  {
   "metadata": {
    "ExecuteTime": {
     "end_time": "2025-03-18T15:36:32.300056Z",
     "start_time": "2025-03-18T15:36:32.291551Z"
    }
   },
   "cell_type": "code",
   "source": [
    "A = torch.arange(20, dtype=torch.float32).reshape(5, 4)\n",
    "B = A.clone()  # 通过分配新内存，将A的一个副本分配给B\n",
    "#而如果直接赋值，只是给到了对应的索引\n",
    "A, A + B"
   ],
   "id": "264c9fc10e0d03e2",
   "outputs": [
    {
     "data": {
      "text/plain": [
       "(tensor([[ 0.,  1.,  2.,  3.],\n",
       "         [ 4.,  5.,  6.,  7.],\n",
       "         [ 8.,  9., 10., 11.],\n",
       "         [12., 13., 14., 15.],\n",
       "         [16., 17., 18., 19.]]),\n",
       " tensor([[ 0.,  2.,  4.,  6.],\n",
       "         [ 8., 10., 12., 14.],\n",
       "         [16., 18., 20., 22.],\n",
       "         [24., 26., 28., 30.],\n",
       "         [32., 34., 36., 38.]]))"
      ]
     },
     "execution_count": 7,
     "metadata": {},
     "output_type": "execute_result"
    }
   ],
   "execution_count": 7
  },
  {
   "metadata": {
    "ExecuteTime": {
     "end_time": "2025-03-18T15:36:50.678059Z",
     "start_time": "2025-03-18T15:36:50.664850Z"
    }
   },
   "cell_type": "code",
   "source": [
    "#两个矩阵的按元素乘法称为哈达玛积\n",
    "A * B"
   ],
   "id": "822dd949aa33d78b",
   "outputs": [
    {
     "data": {
      "text/plain": [
       "tensor([[  0.,   1.,   4.,   9.],\n",
       "        [ 16.,  25.,  36.,  49.],\n",
       "        [ 64.,  81., 100., 121.],\n",
       "        [144., 169., 196., 225.],\n",
       "        [256., 289., 324., 361.]])"
      ]
     },
     "execution_count": 8,
     "metadata": {},
     "output_type": "execute_result"
    }
   ],
   "execution_count": 8
  },
  {
   "metadata": {},
   "cell_type": "markdown",
   "source": "### 计算其元素的和",
   "id": "7a2b8a44644910e7"
  },
  {
   "metadata": {
    "ExecuteTime": {
     "end_time": "2025-03-18T15:38:39.744873Z",
     "start_time": "2025-03-18T15:38:39.733755Z"
    }
   },
   "cell_type": "code",
   "source": [
    "x = torch.arange(4, dtype=torch.float32)\n",
    "x, x.sum()"
   ],
   "id": "7c92ff795d820623",
   "outputs": [
    {
     "data": {
      "text/plain": [
       "(tensor([0., 1., 2., 3.]), tensor(6.))"
      ]
     },
     "execution_count": 9,
     "metadata": {},
     "output_type": "execute_result"
    }
   ],
   "execution_count": 9
  },
  {
   "metadata": {},
   "cell_type": "markdown",
   "source": "### 表示任意形状张量的元素和",
   "id": "4ca047b1b8467a82"
  },
  {
   "metadata": {
    "ExecuteTime": {
     "end_time": "2025-03-18T15:40:33.236141Z",
     "start_time": "2025-03-18T15:40:33.226555Z"
    }
   },
   "cell_type": "code",
   "source": "A.shape, A.sum()",
   "id": "6cb1373648d33d70",
   "outputs": [
    {
     "data": {
      "text/plain": [
       "tensor([[ 0.,  1.,  2.,  3.],\n",
       "        [ 4.,  5.,  6.,  7.],\n",
       "        [ 8.,  9., 10., 11.],\n",
       "        [12., 13., 14., 15.],\n",
       "        [16., 17., 18., 19.]])"
      ]
     },
     "execution_count": 12,
     "metadata": {},
     "output_type": "execute_result"
    }
   ],
   "execution_count": 12
  },
  {
   "metadata": {
    "ExecuteTime": {
     "end_time": "2025-03-18T15:40:56.117780Z",
     "start_time": "2025-03-18T15:40:56.109487Z"
    }
   },
   "cell_type": "code",
   "source": [
    "A_sum_axis0 = A.sum(axis=0)\n",
    "print(A)\n",
    "A_sum_axis0, A_sum_axis0.shape"
   ],
   "id": "cd5830d07593ad7a",
   "outputs": [
    {
     "name": "stdout",
     "output_type": "stream",
     "text": [
      "tensor([[ 0.,  1.,  2.,  3.],\n",
      "        [ 4.,  5.,  6.,  7.],\n",
      "        [ 8.,  9., 10., 11.],\n",
      "        [12., 13., 14., 15.],\n",
      "        [16., 17., 18., 19.]])\n"
     ]
    },
    {
     "data": {
      "text/plain": [
       "(tensor([40., 45., 50., 55.]), torch.Size([4]))"
      ]
     },
     "execution_count": 13,
     "metadata": {},
     "output_type": "execute_result"
    }
   ],
   "execution_count": 13
  },
  {
   "metadata": {},
   "cell_type": "markdown",
   "source": "### 计算总和或均值时保持轴数不变",
   "id": "e1409d51a1a80f75"
  },
  {
   "metadata": {
    "ExecuteTime": {
     "end_time": "2025-03-18T15:44:46.188180Z",
     "start_time": "2025-03-18T15:44:46.179335Z"
    }
   },
   "cell_type": "code",
   "source": [
    "print(A.sum(axis=1,keepdim=True))\n",
    "print(A.sum(axis=1))"
   ],
   "id": "c4e43e4538c03880",
   "outputs": [
    {
     "name": "stdout",
     "output_type": "stream",
     "text": [
      "tensor([[ 6.],\n",
      "        [22.],\n",
      "        [38.],\n",
      "        [54.],\n",
      "        [70.]])\n",
      "tensor([ 6., 22., 38., 54., 70.])\n"
     ]
    }
   ],
   "execution_count": 15
  },
  {
   "metadata": {},
   "cell_type": "markdown",
   "source": "### 矩阵乘法",
   "id": "afe64204139e717b"
  },
  {
   "metadata": {
    "ExecuteTime": {
     "end_time": "2025-03-18T16:11:57.485341Z",
     "start_time": "2025-03-18T16:11:57.479619Z"
    }
   },
   "cell_type": "code",
   "source": [
    "A=torch.arange(20).reshape(5,4)\n",
    "B=torch.arange(24).reshape(4,6)\n",
    "print(A)\n",
    "print(B)\n",
    "print(torch.mm(A,B))"
   ],
   "id": "eb2e5ef80027390c",
   "outputs": [
    {
     "name": "stdout",
     "output_type": "stream",
     "text": [
      "tensor([[ 0,  1,  2,  3],\n",
      "        [ 4,  5,  6,  7],\n",
      "        [ 8,  9, 10, 11],\n",
      "        [12, 13, 14, 15],\n",
      "        [16, 17, 18, 19]])\n",
      "tensor([[ 0,  1,  2,  3,  4,  5],\n",
      "        [ 6,  7,  8,  9, 10, 11],\n",
      "        [12, 13, 14, 15, 16, 17],\n",
      "        [18, 19, 20, 21, 22, 23]])\n",
      "tensor([[  84,   90,   96,  102,  108,  114],\n",
      "        [ 228,  250,  272,  294,  316,  338],\n",
      "        [ 372,  410,  448,  486,  524,  562],\n",
      "        [ 516,  570,  624,  678,  732,  786],\n",
      "        [ 660,  730,  800,  870,  940, 1010]])\n"
     ]
    }
   ],
   "execution_count": 19
  },
  {
   "metadata": {},
   "cell_type": "markdown",
   "source": "### 矩阵的L2范数",
   "id": "a208d39704a4f97f"
  },
  {
   "metadata": {
    "ExecuteTime": {
     "end_time": "2025-03-18T16:12:59.275004Z",
     "start_time": "2025-03-18T16:12:59.264191Z"
    }
   },
   "cell_type": "code",
   "source": [
    "u=torch.tensor([3.0,-4.0])\n",
    "torch.norm(u)"
   ],
   "id": "1bc4e7f10942c6cb",
   "outputs": [
    {
     "data": {
      "text/plain": [
       "tensor(5.)"
      ]
     },
     "execution_count": 20,
     "metadata": {},
     "output_type": "execute_result"
    }
   ],
   "execution_count": 20
  },
  {
   "metadata": {},
   "cell_type": "code",
   "outputs": [],
   "execution_count": null,
   "source": "",
   "id": "afdc1d277934def5"
  }
 ],
 "metadata": {
  "kernelspec": {
   "display_name": "Python 3",
   "language": "python",
   "name": "python3"
  },
  "language_info": {
   "codemirror_mode": {
    "name": "ipython",
    "version": 2
   },
   "file_extension": ".py",
   "mimetype": "text/x-python",
   "name": "python",
   "nbconvert_exporter": "python",
   "pygments_lexer": "ipython2",
   "version": "2.7.6"
  }
 },
 "nbformat": 4,
 "nbformat_minor": 5
}
