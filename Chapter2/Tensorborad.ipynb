{
 "cells": [
  {
   "metadata": {
    "ExecuteTime": {
     "end_time": "2025-03-20T04:54:56.985289Z",
     "start_time": "2025-03-20T04:54:56.971895Z"
    }
   },
   "cell_type": "code",
   "source": [
    "from torch.utils.tensorboard import SummaryWriter\n",
    "writer = SummaryWriter(\"../logs\")\n",
    "\n",
    "\n",
    "#y=x\n",
    "for i in range(100):\n",
    "    writer.add_scalar(\"y=6x\",7*i+4,i)\n",
    "writer.close()\n",
    "#tensorboard --logdir=logs --port=8848\n",
    "#终端中输入以上命令，打开tensorboard\n",
    "#Safari对tensorboard的支持不好，可以用Chrome打开"
   ],
   "id": "dc2675975688df01",
   "outputs": [],
   "execution_count": 14
  },
  {
   "metadata": {},
   "cell_type": "markdown",
   "source": "### 读写图片",
   "id": "dc81fa76f882aede"
  },
  {
   "metadata": {},
   "cell_type": "markdown",
   "source": "add_image中img_tensor参数支持的格式有Tensor，numpy数组",
   "id": "aebd3f0019929f21"
  },
  {
   "metadata": {
    "ExecuteTime": {
     "end_time": "2025-03-20T05:47:01.322498Z",
     "start_time": "2025-03-20T05:47:00.991036Z"
    }
   },
   "cell_type": "code",
   "source": [
    "#用opencv读取图片，得到的是numpy数组\n",
    "#或者用PIL读取图片，再用np.array()转换成numpy数组\n",
    "from PIL import Image\n",
    "import numpy as np\n",
    "img_path= '../dataset/bees_and_ants/train/ants/0013035.jpg'\n",
    "img=Image.open(img_path)\n",
    "print(type(img))\n",
    "img_array=np.array(img)\n",
    "print(type(img_array))"
   ],
   "id": "384d2dd0afec7472",
   "outputs": [
    {
     "name": "stdout",
     "output_type": "stream",
     "text": [
      "<class 'PIL.JpegImagePlugin.JpegImageFile'>\n",
      "<class 'numpy.ndarray'>\n"
     ]
    }
   ],
   "execution_count": 15
  },
  {
   "metadata": {
    "ExecuteTime": {
     "end_time": "2025-03-20T05:55:18.695631Z",
     "start_time": "2025-03-20T05:55:18.574615Z"
    }
   },
   "cell_type": "code",
   "source": [
    "writer.add_image(\"test\",img_array,1,dataformats='HWC')\n",
    "#相同title下在相同窗口显示，选择不同的step可以显示不同的图片"
   ],
   "id": "ce82069515dc0b7c",
   "outputs": [],
   "execution_count": 16
  }
 ],
 "metadata": {
  "kernelspec": {
   "display_name": "Python 3",
   "language": "python",
   "name": "python3"
  },
  "language_info": {
   "codemirror_mode": {
    "name": "ipython",
    "version": 2
   },
   "file_extension": ".py",
   "mimetype": "text/x-python",
   "name": "python",
   "nbconvert_exporter": "python",
   "pygments_lexer": "ipython2",
   "version": "2.7.6"
  }
 },
 "nbformat": 4,
 "nbformat_minor": 5
}
